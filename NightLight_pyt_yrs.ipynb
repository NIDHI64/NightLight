{
 "cells": [
  {
   "cell_type": "code",
   "execution_count": 1,
   "id": "abdff015",
   "metadata": {},
   "outputs": [],
   "source": [
    "import ee\n",
    "import geemap\n",
    "Map = geemap.Map()"
   ]
  },
  {
   "cell_type": "code",
   "execution_count": 2,
   "id": "3b809a31",
   "metadata": {},
   "outputs": [],
   "source": [
    "ee.Initialize()"
   ]
  },
  {
   "cell_type": "code",
   "execution_count": 3,
   "id": "faa3649a",
   "metadata": {},
   "outputs": [],
   "source": [
    "Map.setCenter(0, 30, 2)\n",
    "\n",
    "# Alternatively, you can set the center to a specific location\n",
    "# Map.setCenter(lon, lat, zoom)\n",
    "\n",
    "# Note: Uncomment only one of the above options\n",
    "\n",
    "# Load the VIIRS Nighttime Day/Night Band Composites collection (corrected for stray light)\n",
    "nightLights = ee.ImageCollection('NOAA/VIIRS/DNB/MONTHLY_V1/VCMSLCFG') \\\n",
    "  .select('avg_rad')"
   ]
  },
  {
   "cell_type": "code",
   "execution_count": 4,
   "id": "dca88330",
   "metadata": {},
   "outputs": [
    {
     "data": {
      "application/vnd.jupyter.widget-view+json": {
       "model_id": "cd5f62bd21424ca3bcc0550aa10beb04",
       "version_major": 2,
       "version_minor": 0
      },
      "text/plain": [
       "Map(center=[30, 0], controls=(WidgetControl(options=['position', 'transparent_bg'], widget=HBox(children=(Togg…"
      ]
     },
     "execution_count": 4,
     "metadata": {},
     "output_type": "execute_result"
    }
   ],
   "source": [
    "startYear = 2015\n",
    "endYear = 2020\n",
    "\n",
    "# Iterate over the years\n",
    "for year in range(startYear, endYear, 1):\n",
    "  # Filter the collection for the year\n",
    "  filtered = nightLights.filter(ee.Filter.calendarRange(year, year, 'year'))\n",
    "\n",
    "  # Get the image for the year\n",
    "  image = ee.Image(filtered.first())\n",
    "\n",
    "  # Set the visualization parameters\n",
    "  visParams = {\n",
    "    'min': 0,\n",
    "    'max': 63,\n",
    "    'palette': ['black', 'blue', 'purple', 'cyan', 'green', 'yellow', 'red']\n",
    "  }\n",
    "\n",
    "  # Add the image as a map layer with a unique name and visualization parameters\n",
    "  Map.addLayer(image, visParams, str(year))\n",
    "\n",
    "Map\n"
   ]
  },
  {
   "cell_type": "code",
   "execution_count": null,
   "id": "e0c298ec",
   "metadata": {},
   "outputs": [],
   "source": []
  },
  {
   "cell_type": "code",
   "execution_count": null,
   "id": "d303e550",
   "metadata": {},
   "outputs": [],
   "source": []
  }
 ],
 "metadata": {
  "kernelspec": {
   "display_name": "Python 3 (ipykernel)",
   "language": "python",
   "name": "python3"
  },
  "language_info": {
   "codemirror_mode": {
    "name": "ipython",
    "version": 3
   },
   "file_extension": ".py",
   "mimetype": "text/x-python",
   "name": "python",
   "nbconvert_exporter": "python",
   "pygments_lexer": "ipython3",
   "version": "3.10.9"
  }
 },
 "nbformat": 4,
 "nbformat_minor": 5
}
